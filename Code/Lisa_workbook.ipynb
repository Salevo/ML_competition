{
 "cells": [
  {
   "cell_type": "markdown",
   "metadata": {},
   "source": [
    "# Logistic Regression"
   ]
  },
  {
   "cell_type": "code",
   "execution_count": 21,
   "metadata": {},
   "outputs": [],
   "source": [
    "import pandas as pd\n",
    "import numpy as np\n",
    "from sklearn.model_selection import train_test_split\n",
    "from sklearn.preprocessing import StandardScaler\n",
    "from sklearn.linear_model import LogisticRegression\n",
    "from sklearn.metrics import r2_score\n",
    "from sklearn.metrics import mean_squared_error\n",
    "from sklearn.metrics import confusion_matrix, accuracy_score, cohen_kappa_score, plot_confusion_matrix, f1_score, recall_score, precision_score, classification_report "
   ]
  },
  {
   "cell_type": "markdown",
   "metadata": {},
   "source": [
    "**Importing Dataset**"
   ]
  },
  {
   "cell_type": "code",
   "execution_count": 22,
   "metadata": {},
   "outputs": [],
   "source": [
    "cookies = pd.read_csv('../Data/cookies_clean.csv')"
   ]
  },
  {
   "cell_type": "code",
   "execution_count": 23,
   "metadata": {},
   "outputs": [
    {
     "data": {
      "text/html": [
       "<div>\n",
       "<style scoped>\n",
       "    .dataframe tbody tr th:only-of-type {\n",
       "        vertical-align: middle;\n",
       "    }\n",
       "\n",
       "    .dataframe tbody tr th {\n",
       "        vertical-align: top;\n",
       "    }\n",
       "\n",
       "    .dataframe thead th {\n",
       "        text-align: right;\n",
       "    }\n",
       "</style>\n",
       "<table border=\"1\" class=\"dataframe\">\n",
       "  <thead>\n",
       "    <tr style=\"text-align: right;\">\n",
       "      <th></th>\n",
       "      <th>Unnamed: 0</th>\n",
       "      <th>sugar to flour ratio</th>\n",
       "      <th>sugar index</th>\n",
       "      <th>bake temp</th>\n",
       "      <th>chill time</th>\n",
       "      <th>calories</th>\n",
       "      <th>pH</th>\n",
       "      <th>grams baking soda</th>\n",
       "      <th>bake time</th>\n",
       "      <th>quality</th>\n",
       "      <th>butter type</th>\n",
       "      <th>weight</th>\n",
       "      <th>chocolate</th>\n",
       "      <th>raisins</th>\n",
       "      <th>oats</th>\n",
       "      <th>nuts</th>\n",
       "      <th>peanut butter</th>\n",
       "    </tr>\n",
       "  </thead>\n",
       "  <tbody>\n",
       "    <tr>\n",
       "      <th>0</th>\n",
       "      <td>0</td>\n",
       "      <td>0.25</td>\n",
       "      <td>9.5</td>\n",
       "      <td>300</td>\n",
       "      <td>15.0</td>\n",
       "      <td>136.0</td>\n",
       "      <td>8.10</td>\n",
       "      <td>0.44</td>\n",
       "      <td>12.1</td>\n",
       "      <td>8</td>\n",
       "      <td>1</td>\n",
       "      <td>15.2</td>\n",
       "      <td>0</td>\n",
       "      <td>1</td>\n",
       "      <td>0</td>\n",
       "      <td>0</td>\n",
       "      <td>0</td>\n",
       "    </tr>\n",
       "    <tr>\n",
       "      <th>1</th>\n",
       "      <td>1</td>\n",
       "      <td>0.23</td>\n",
       "      <td>3.3</td>\n",
       "      <td>520</td>\n",
       "      <td>34.0</td>\n",
       "      <td>113.0</td>\n",
       "      <td>8.16</td>\n",
       "      <td>0.48</td>\n",
       "      <td>8.4</td>\n",
       "      <td>7</td>\n",
       "      <td>1</td>\n",
       "      <td>12.4</td>\n",
       "      <td>0</td>\n",
       "      <td>1</td>\n",
       "      <td>0</td>\n",
       "      <td>0</td>\n",
       "      <td>0</td>\n",
       "    </tr>\n",
       "    <tr>\n",
       "      <th>2</th>\n",
       "      <td>3</td>\n",
       "      <td>0.18</td>\n",
       "      <td>10.5</td>\n",
       "      <td>490</td>\n",
       "      <td>41.0</td>\n",
       "      <td>124.0</td>\n",
       "      <td>8.14</td>\n",
       "      <td>0.35</td>\n",
       "      <td>10.5</td>\n",
       "      <td>7</td>\n",
       "      <td>1</td>\n",
       "      <td>12.2</td>\n",
       "      <td>1</td>\n",
       "      <td>0</td>\n",
       "      <td>0</td>\n",
       "      <td>0</td>\n",
       "      <td>0</td>\n",
       "    </tr>\n",
       "  </tbody>\n",
       "</table>\n",
       "</div>"
      ],
      "text/plain": [
       "   Unnamed: 0  sugar to flour ratio  sugar index  bake temp  chill time  \\\n",
       "0           0                  0.25          9.5        300        15.0   \n",
       "1           1                  0.23          3.3        520        34.0   \n",
       "2           3                  0.18         10.5        490        41.0   \n",
       "\n",
       "   calories    pH  grams baking soda  bake time  quality  butter type  weight  \\\n",
       "0     136.0  8.10               0.44       12.1        8            1    15.2   \n",
       "1     113.0  8.16               0.48        8.4        7            1    12.4   \n",
       "2     124.0  8.14               0.35       10.5        7            1    12.2   \n",
       "\n",
       "   chocolate  raisins  oats  nuts  peanut butter  \n",
       "0          0        1     0     0              0  \n",
       "1          0        1     0     0              0  \n",
       "2          1        0     0     0              0  "
      ]
     },
     "execution_count": 23,
     "metadata": {},
     "output_type": "execute_result"
    }
   ],
   "source": [
    "cookies.head(3)"
   ]
  },
  {
   "cell_type": "code",
   "execution_count": 24,
   "metadata": {},
   "outputs": [],
   "source": [
    "cookies.drop('Unnamed: 0', axis=1, inplace=True)"
   ]
  },
  {
   "cell_type": "markdown",
   "metadata": {},
   "source": [
    "**Splitting data frame**"
   ]
  },
  {
   "cell_type": "code",
   "execution_count": 25,
   "metadata": {},
   "outputs": [],
   "source": [
    "X = cookies.drop(['quality'], axis=1)\n",
    "y = cookies['quality']"
   ]
  },
  {
   "cell_type": "code",
   "execution_count": 26,
   "metadata": {},
   "outputs": [],
   "source": [
    "X_train, X_test, y_train, y_test=train_test_split(X, y, test_size=0.33, random_state=0)"
   ]
  },
  {
   "cell_type": "code",
   "execution_count": 27,
   "metadata": {},
   "outputs": [],
   "source": [
    "#scaling the x values\n",
    "scaler = StandardScaler()\n",
    "scaler.fit(X_train)\n",
    "X_train_scale = scaler.transform(X_train)\n",
    "X_test_scale = scaler.transform(X_test)"
   ]
  },
  {
   "cell_type": "code",
   "execution_count": 28,
   "metadata": {},
   "outputs": [],
   "source": [
    "log_model = LogisticRegression(max_iter=700, multi_class='multinomial')"
   ]
  },
  {
   "cell_type": "code",
   "execution_count": 29,
   "metadata": {},
   "outputs": [
    {
     "data": {
      "text/plain": [
       "LogisticRegression(max_iter=700, multi_class='multinomial')"
      ]
     },
     "execution_count": 29,
     "metadata": {},
     "output_type": "execute_result"
    }
   ],
   "source": [
    "log_model.fit(X_train_scale, y_train)"
   ]
  },
  {
   "cell_type": "code",
   "execution_count": 30,
   "metadata": {},
   "outputs": [],
   "source": [
    "y_pred = log_model.predict(X_test_scale)"
   ]
  },
  {
   "cell_type": "code",
   "execution_count": 31,
   "metadata": {},
   "outputs": [],
   "source": [
    "def model_scores(y_test, y_pred):\n",
    "    print('R2:', round(r2_score(y_test, y_pred), 3))\n",
    "    print('Accuracy Score:', round(accuracy_score(y_test, y_pred), 3))\n",
    "    print('Cohen Kappa Score:', round(cohen_kappa_score(y_test, y_pred), 3))\n",
    "    print('MSE:', round(mean_squared_error(y_test, y_pred), 3))"
   ]
  },
  {
   "cell_type": "code",
   "execution_count": 32,
   "metadata": {},
   "outputs": [
    {
     "name": "stdout",
     "output_type": "stream",
     "text": [
      "R2: 0.317\n",
      "Accuracy Score: 0.57\n",
      "Cohen Kappa Score: 0.333\n",
      "MSE: 0.517\n"
     ]
    }
   ],
   "source": [
    "model_scores(y_test, y_pred)"
   ]
  },
  {
   "cell_type": "markdown",
   "metadata": {},
   "source": [
    "# KN Regressor"
   ]
  },
  {
   "cell_type": "code",
   "execution_count": 33,
   "metadata": {},
   "outputs": [
    {
     "name": "stdout",
     "output_type": "stream",
     "text": [
      "For k= 1\n",
      "R2: 0.369\n",
      "MSE: 0.493\n",
      "\n",
      "For k= 2\n",
      "R2: 0.408\n",
      "MSE: 0.463\n",
      "\n",
      "For k= 3\n",
      "R2: 0.436\n",
      "MSE: 0.441\n",
      "\n",
      "For k= 4\n",
      "R2: 0.457\n",
      "MSE: 0.424\n",
      "\n",
      "For k= 5\n",
      "R2: 0.46\n",
      "MSE: 0.422\n",
      "\n",
      "For k= 6\n",
      "R2: 0.458\n",
      "MSE: 0.423\n",
      "\n",
      "For k= 7\n",
      "R2: 0.455\n",
      "MSE: 0.426\n",
      "\n",
      "For k= 8\n",
      "R2: 0.456\n",
      "MSE: 0.425\n",
      "\n",
      "For k= 9\n",
      "R2: 0.46\n",
      "MSE: 0.422\n",
      "\n",
      "For k= 10\n",
      "R2: 0.466\n",
      "MSE: 0.417\n",
      "\n",
      "For k= 11\n",
      "R2: 0.474\n",
      "MSE: 0.411\n",
      "\n",
      "For k= 12\n",
      "R2: 0.47\n",
      "MSE: 0.414\n",
      "\n",
      "For k= 13\n",
      "R2: 0.467\n",
      "MSE: 0.417\n",
      "\n",
      "For k= 14\n",
      "R2: 0.464\n",
      "MSE: 0.419\n",
      "\n",
      "For k= 15\n",
      "R2: 0.469\n",
      "MSE: 0.415\n",
      "\n",
      "For k= 16\n",
      "R2: 0.471\n",
      "MSE: 0.413\n",
      "\n",
      "For k= 17\n",
      "R2: 0.468\n",
      "MSE: 0.416\n",
      "\n",
      "For k= 18\n",
      "R2: 0.468\n",
      "MSE: 0.416\n",
      "\n",
      "For k= 19\n",
      "R2: 0.468\n",
      "MSE: 0.416\n",
      "\n"
     ]
    }
   ],
   "source": [
    "#with Standard Scaler\n",
    "from sklearn.neighbors import KNeighborsRegressor\n",
    "\n",
    "X = cookies.drop(['quality'], axis=1)\n",
    "y = cookies['quality']\n",
    "\n",
    "X_train, X_test, y_train, y_test=train_test_split(X, y, test_size=0.2, random_state=0)\n",
    "\n",
    "#scaling the x values\n",
    "scaler = StandardScaler()\n",
    "scaler.fit(X_train)\n",
    "X_train_scale = scaler.transform(X_train)\n",
    "X_test_scale = scaler.transform(X_test)\n",
    "\n",
    "for k in range(1, 20):\n",
    "    Knn = KNeighborsRegressor(n_neighbors = k)\n",
    "    Knn.fit(X_train_scale, y_train)\n",
    "    y_pred = Knn.predict(X_test_scale)\n",
    "    print('For k=', k)\n",
    "    print('R2:', round(r2_score(y_test, y_pred), 3))\n",
    "    print('MSE:', round(mean_squared_error(y_test, y_pred), 3))\n",
    "    print('')"
   ]
  },
  {
   "cell_type": "code",
   "execution_count": 34,
   "metadata": {},
   "outputs": [
    {
     "name": "stdout",
     "output_type": "stream",
     "text": [
      "R2: 0.403\n",
      "MSE: 0.466\n",
      "\n"
     ]
    }
   ],
   "source": [
    "#with Standard Scaler\n",
    "from sklearn.neighbors import KNeighborsRegressor\n",
    "\n",
    "X = cookies.drop(['quality'], axis=1)\n",
    "y = cookies['quality']\n",
    "\n",
    "X_train, X_test, y_train, y_test=train_test_split(X, y, test_size=0.2, random_state=0)\n",
    "\n",
    "#scaling the x values\n",
    "scaler = StandardScaler()\n",
    "scaler.fit(X_train)\n",
    "X_train_scale = scaler.transform(X_train)\n",
    "X_test_scale = scaler.transform(X_test)\n",
    "\n",
    "\n",
    "Knn = KNeighborsRegressor(metric='wminkowski', p=2, \n",
    "                           metric_params={'w': np.random.random(X_train.shape[1])})\n",
    "Knn.fit(X_train_scale, y_train)\n",
    "y_pred = Knn.predict(X_test_scale)\n",
    "print('R2:', round(r2_score(y_test, y_pred), 3))\n",
    "print('MSE:', round(mean_squared_error(y_test, y_pred), 3))\n",
    "print('')"
   ]
  },
  {
   "cell_type": "code",
   "execution_count": 35,
   "metadata": {},
   "outputs": [
    {
     "name": "stdout",
     "output_type": "stream",
     "text": [
      "For k= 1\n",
      "R2: 0.341\n",
      "MSE: 0.515\n",
      "\n",
      "For k= 2\n",
      "R2: 0.422\n",
      "MSE: 0.452\n",
      "\n",
      "For k= 3\n",
      "R2: 0.432\n",
      "MSE: 0.444\n",
      "\n",
      "For k= 4\n",
      "R2: 0.437\n",
      "MSE: 0.44\n",
      "\n",
      "For k= 5\n",
      "R2: 0.446\n",
      "MSE: 0.433\n",
      "\n",
      "For k= 6\n",
      "R2: 0.459\n",
      "MSE: 0.423\n",
      "\n",
      "For k= 7\n",
      "R2: 0.463\n",
      "MSE: 0.42\n",
      "\n",
      "For k= 8\n",
      "R2: 0.467\n",
      "MSE: 0.417\n",
      "\n",
      "For k= 9\n",
      "R2: 0.466\n",
      "MSE: 0.418\n",
      "\n",
      "For k= 10\n",
      "R2: 0.465\n",
      "MSE: 0.418\n",
      "\n",
      "For k= 11\n",
      "R2: 0.465\n",
      "MSE: 0.418\n",
      "\n",
      "For k= 12\n",
      "R2: 0.471\n",
      "MSE: 0.414\n",
      "\n",
      "For k= 13\n",
      "R2: 0.473\n",
      "MSE: 0.412\n",
      "\n",
      "For k= 14\n",
      "R2: 0.472\n",
      "MSE: 0.413\n",
      "\n",
      "For k= 15\n",
      "R2: 0.473\n",
      "MSE: 0.412\n",
      "\n",
      "For k= 16\n",
      "R2: 0.472\n",
      "MSE: 0.412\n",
      "\n",
      "For k= 17\n",
      "R2: 0.473\n",
      "MSE: 0.412\n",
      "\n",
      "For k= 18\n",
      "R2: 0.473\n",
      "MSE: 0.412\n",
      "\n",
      "For k= 19\n",
      "R2: 0.469\n",
      "MSE: 0.415\n",
      "\n"
     ]
    }
   ],
   "source": [
    "# with MinMaxScaler\n",
    "from sklearn.neighbors import KNeighborsRegressor\n",
    "from sklearn.preprocessing import MinMaxScaler\n",
    "\n",
    "X = cookies.drop(['quality'], axis=1)\n",
    "y = cookies['quality']\n",
    "\n",
    "X_train, X_test, y_train, y_test=train_test_split(X, y, test_size=0.2, random_state=0)\n",
    "\n",
    "#scaling the x values\n",
    "scaler = MinMaxScaler()\n",
    "scaler.fit(X_train)\n",
    "X_train_scale = scaler.transform(X_train)\n",
    "X_test_scale = scaler.transform(X_test)\n",
    "\n",
    "for k in range(1, 20):\n",
    "    Knn = KNeighborsRegressor(n_neighbors = k)\n",
    "    Knn.fit(X_train_scale, y_train)\n",
    "    y_pred = Knn.predict(X_test_scale)\n",
    "    print('For k=', k)\n",
    "    print('R2:', round(r2_score(y_test, y_pred), 3))\n",
    "    print('MSE:', round(mean_squared_error(y_test, y_pred), 3))\n",
    "    print('')"
   ]
  },
  {
   "cell_type": "code",
   "execution_count": 36,
   "metadata": {},
   "outputs": [
    {
     "name": "stdout",
     "output_type": "stream",
     "text": [
      "For k= 1\n",
      "R2: 0.369\n",
      "MSE: 0.493\n",
      "\n",
      "For k= 2\n",
      "R2: 0.408\n",
      "MSE: 0.463\n",
      "\n",
      "For k= 3\n",
      "R2: 0.436\n",
      "MSE: 0.441\n",
      "\n",
      "For k= 4\n",
      "R2: 0.457\n",
      "MSE: 0.424\n",
      "\n",
      "For k= 5\n",
      "R2: 0.46\n",
      "MSE: 0.422\n",
      "\n",
      "For k= 6\n",
      "R2: 0.458\n",
      "MSE: 0.423\n",
      "\n",
      "For k= 7\n",
      "R2: 0.455\n",
      "MSE: 0.426\n",
      "\n",
      "For k= 8\n",
      "R2: 0.456\n",
      "MSE: 0.425\n",
      "\n",
      "For k= 9\n",
      "R2: 0.46\n",
      "MSE: 0.422\n",
      "\n",
      "For k= 10\n",
      "R2: 0.466\n",
      "MSE: 0.417\n",
      "\n",
      "For k= 11\n",
      "R2: 0.474\n",
      "MSE: 0.411\n",
      "\n",
      "For k= 12\n",
      "R2: 0.47\n",
      "MSE: 0.414\n",
      "\n",
      "For k= 13\n",
      "R2: 0.467\n",
      "MSE: 0.417\n",
      "\n",
      "For k= 14\n",
      "R2: 0.464\n",
      "MSE: 0.419\n",
      "\n",
      "For k= 15\n",
      "R2: 0.469\n",
      "MSE: 0.415\n",
      "\n",
      "For k= 16\n",
      "R2: 0.471\n",
      "MSE: 0.413\n",
      "\n",
      "For k= 17\n",
      "R2: 0.468\n",
      "MSE: 0.416\n",
      "\n",
      "For k= 18\n",
      "R2: 0.468\n",
      "MSE: 0.416\n",
      "\n",
      "For k= 19\n",
      "R2: 0.468\n",
      "MSE: 0.416\n",
      "\n"
     ]
    }
   ],
   "source": [
    "#with Standard Scaler and dropping more columns\n",
    "from sklearn.neighbors import KNeighborsRegressor\n",
    "\n",
    "X = cookies.drop(['quality'], axis=1)\n",
    "y = cookies['quality']\n",
    "\n",
    "X_train, X_test, y_train, y_test=train_test_split(X, y, test_size=0.2, random_state=0)\n",
    "\n",
    "#scaling the x values\n",
    "scaler = StandardScaler()\n",
    "scaler.fit(X_train)\n",
    "X_train_scale = scaler.transform(X_train)\n",
    "X_test_scale = scaler.transform(X_test)\n",
    "\n",
    "for k in range(1, 20):\n",
    "    Knn = KNeighborsRegressor(n_neighbors = k)\n",
    "    Knn.fit(X_train_scale, y_train)\n",
    "    y_pred = Knn.predict(X_test_scale)\n",
    "    print('For k=', k)\n",
    "    print('R2:', round(r2_score(y_test, y_pred), 3))\n",
    "    print('MSE:', round(mean_squared_error(y_test, y_pred), 3))\n",
    "    print('')"
   ]
  },
  {
   "cell_type": "markdown",
   "metadata": {},
   "source": [
    "**Applying best model to new data frame**"
   ]
  },
  {
   "cell_type": "code",
   "execution_count": 37,
   "metadata": {},
   "outputs": [
    {
     "name": "stdout",
     "output_type": "stream",
     "text": [
      "R2: 0.467\n",
      "MSE: 0.417\n",
      "\n"
     ]
    }
   ],
   "source": [
    "#best KNN model with k = 8:\n",
    "from sklearn.neighbors import KNeighborsRegressor\n",
    "from sklearn.preprocessing import MinMaxScaler\n",
    "\n",
    "X = cookies.drop(['quality'], axis=1)\n",
    "y = cookies['quality']\n",
    "\n",
    "X_train, X_test, y_train, y_test=train_test_split(X, y, test_size=0.2, random_state=0)\n",
    "\n",
    "#scaling the x values\n",
    "scaler = MinMaxScaler()\n",
    "scaler.fit(X_train)\n",
    "X_train_scale = scaler.transform(X_train)\n",
    "X_test_scale = scaler.transform(X_test)\n",
    "\n",
    "Knn = KNeighborsRegressor(n_neighbors = 8)\n",
    "Knn.fit(X_train_scale, y_train)\n",
    "y_pred = Knn.predict(X_test_scale)\n",
    "print('R2:', round(r2_score(y_test, y_pred), 3))\n",
    "print('MSE:', round(mean_squared_error(y_test, y_pred), 3))\n",
    "print('')"
   ]
  },
  {
   "cell_type": "code",
   "execution_count": 41,
   "metadata": {},
   "outputs": [],
   "source": [
    "test = pd.read_csv('../Data/cookies_validate.csv')"
   ]
  },
  {
   "cell_type": "code",
   "execution_count": 42,
   "metadata": {},
   "outputs": [],
   "source": [
    "#dropping\n",
    "test.drop('id', axis=1, inplace=True)\n",
    "test.drop('quality', axis=1, inplace=True)\n",
    "test.drop(['density', 'crunch factor', 'aesthetic appeal'], axis=1, inplace=True)\n",
    "\n",
    "#making dummies\n",
    "#butter types\n",
    "test['butter type'] = test['butter type'].replace('melted', 1).replace('cubed', 0)\n",
    "\n",
    "#mixins\n",
    "mixins_list = ['chocolate', 'raisins', 'oats', 'nuts', 'peanut butter']\n",
    "\n",
    "for x in mixins_list:\n",
    "    test[x] = 0\n",
    "    test[x] = test['mixins'].str.contains(x).astype(int)\n",
    "\n",
    "test.drop('mixins', axis=1, inplace=True)"
   ]
  },
  {
   "cell_type": "markdown",
   "metadata": {},
   "source": [
    "# Linear Regression"
   ]
  },
  {
   "cell_type": "code",
   "execution_count": 44,
   "metadata": {},
   "outputs": [
    {
     "name": "stdout",
     "output_type": "stream",
     "text": [
      "R2: 0.463\n",
      "RMSE: 0.6476841166543369\n"
     ]
    }
   ],
   "source": [
    "from sklearn.linear_model import LinearRegression\n",
    "\n",
    "X = cookies.drop(['quality'], axis=1)\n",
    "y = cookies['quality']\n",
    "\n",
    "X_train, X_test, y_train, y_test=train_test_split(X, y, test_size=0.2, random_state=0)\n",
    "\n",
    "#scaling the x values\n",
    "scaler = StandardScaler()\n",
    "scaler.fit(X_train)\n",
    "X_train_scale = scaler.transform(X_train)\n",
    "X_test_scale = scaler.transform(X_test)\n",
    "\n",
    "reg = LinearRegression()\n",
    "reg.fit(X_train_scale, y_train)\n",
    "\n",
    "y_pred = reg.predict(X_test_scale)\n",
    "y_test_predict= RFR.predict(X_test)\n",
    "\n",
    "print('R2:', round(r2_score(y_test, y_pred), 3))\n",
    "print('RMSE:', np.sqrt(mean_squared_error(y_test, y_pred)))"
   ]
  },
  {
   "cell_type": "markdown",
   "metadata": {},
   "source": [
    "# Lasso Regression"
   ]
  },
  {
   "cell_type": "code",
   "execution_count": 47,
   "metadata": {},
   "outputs": [
    {
     "name": "stdout",
     "output_type": "stream",
     "text": [
      "MSE: 0.48490618680269837\n",
      "R2 Score: 0.36892675729320945\n",
      "\n",
      "MSE: 0.6931989983754325\n",
      "R2 Score: 0.38516132557588123\n"
     ]
    }
   ],
   "source": [
    "from sklearn import linear_model\n",
    "\n",
    "X = cookies.drop(['quality'], axis=1)\n",
    "y = cookies['quality']\n",
    "\n",
    "X_train, X_test, y_train, y_test=train_test_split(X, y, test_size=0.2, random_state=0)\n",
    "\n",
    "#scaling the x values\n",
    "scaler = StandardScaler()\n",
    "scaler.fit(X_train)\n",
    "X_train_scale = scaler.transform(X_train)\n",
    "X_test_scale = scaler.transform(X_test)\n",
    "\n",
    "model_lasso = linear_model.Lasso(alpha=0.1)\n",
    "model_lasso.fit(X_train_scale, y_train) \n",
    "pred_train_lasso= model_lasso.predict(X_train_scale)\n",
    "print('MSE:', mean_squared_error(y_train,pred_train_lasso))\n",
    "print('R2 Score:', r2_score(y_train, pred_train_lasso))\n",
    "print('')\n",
    "pred_test_lasso= model_lasso.predict(X_test_scale)\n",
    "print('MSE:', np.sqrt(mean_squared_error(y_test,pred_test_lasso))) \n",
    "print('R2 Score:', r2_score(y_test, pred_test_lasso))"
   ]
  },
  {
   "cell_type": "code",
   "execution_count": 48,
   "metadata": {},
   "outputs": [
    {
     "name": "stdout",
     "output_type": "stream",
     "text": [
      "MSE: 0.690929161269085\n",
      "R2 Score: 0.1008015196552281\n",
      "\n",
      "MSE: 0.7000303851541965\n",
      "R2 Score: 0.10430073937533246\n"
     ]
    }
   ],
   "source": [
    "from sklearn import linear_model\n",
    "\n",
    "X = cookies.drop(['quality'], axis=1)\n",
    "y = cookies['quality']\n",
    "\n",
    "X_train, X_test, y_train, y_test=train_test_split(X, y, test_size=0.2, random_state=0)\n",
    "\n",
    "#scaling the x values\n",
    "scaler = MinMaxScaler()\n",
    "scaler.fit(X_train)\n",
    "X_train_scale = scaler.transform(X_train)\n",
    "X_test_scale = scaler.transform(X_test)\n",
    "\n",
    "model_lasso = linear_model.Lasso(alpha=0.1)\n",
    "model_lasso.fit(X_train_scale, y_train) \n",
    "pred_train_lasso= model_lasso.predict(X_train_scale)\n",
    "print('MSE:', mean_squared_error(y_train,pred_train_lasso))\n",
    "print('R2 Score:', r2_score(y_train, pred_train_lasso))\n",
    "print('')\n",
    "pred_test_lasso= model_lasso.predict(X_test_scale)\n",
    "print('MSE:', mean_squared_error(y_test,pred_test_lasso)) \n",
    "print('R2 Score:', r2_score(y_test, pred_test_lasso))"
   ]
  },
  {
   "cell_type": "markdown",
   "metadata": {},
   "source": [
    "# Ridge Regression"
   ]
  },
  {
   "cell_type": "code",
   "execution_count": 49,
   "metadata": {},
   "outputs": [
    {
     "name": "stdout",
     "output_type": "stream",
     "text": [
      "MSE: 0.42664162078572304\n",
      "R2 Score: 0.44475422580558255\n",
      "\n",
      "MSE: 0.4194948354177713\n",
      "R2 Score: 0.46325013615401944\n"
     ]
    }
   ],
   "source": [
    "from sklearn.linear_model import Ridge\n",
    "\n",
    "X = cookies.drop(['quality'], axis=1)\n",
    "y = cookies['quality']\n",
    "\n",
    "X_train, X_test, y_train, y_test=train_test_split(X, y, test_size=0.2, random_state=0)\n",
    "\n",
    "#scaling the x values\n",
    "scaler = StandardScaler()\n",
    "scaler.fit(X_train)\n",
    "X_train_scale = scaler.transform(X_train)\n",
    "X_test_scale = scaler.transform(X_test)\n",
    "\n",
    "rr = Ridge(alpha=0.01)\n",
    "rr.fit(X_train_scale, y_train) \n",
    "pred_train_rr= rr.predict(X_train_scale)\n",
    "print('MSE:', mean_squared_error(y_train,pred_train_rr))\n",
    "print('R2 Score:', r2_score(y_train, pred_train_rr))\n",
    "\n",
    "print('')\n",
    "\n",
    "pred_test_rr= rr.predict(X_test_scale)\n",
    "print('MSE:', mean_squared_error(y_test,pred_test_rr)) \n",
    "print('R2 Score:', r2_score(y_test, pred_test_rr))"
   ]
  },
  {
   "cell_type": "code",
   "execution_count": 50,
   "metadata": {},
   "outputs": [
    {
     "name": "stdout",
     "output_type": "stream",
     "text": [
      "MSE: 0.4266416234706396\n",
      "R2 Score: 0.44475422231134176\n",
      "\n",
      "MSE: 0.41949718747848025\n",
      "R2 Score: 0.4632471266574566\n"
     ]
    }
   ],
   "source": [
    "from sklearn.linear_model import Ridge\n",
    "\n",
    "X = cookies.drop(['quality'], axis=1)\n",
    "y = cookies['quality']\n",
    "\n",
    "X_train, X_test, y_train, y_test=train_test_split(X, y, test_size=0.2, random_state=0)\n",
    "\n",
    "#scaling the x values\n",
    "scaler = MinMaxScaler()\n",
    "scaler.fit(X_train)\n",
    "X_train_scale = scaler.transform(X_train)\n",
    "X_test_scale = scaler.transform(X_test)\n",
    "\n",
    "rr = Ridge(alpha=0.01)\n",
    "rr.fit(X_train_scale, y_train) \n",
    "pred_train_rr= rr.predict(X_train_scale)\n",
    "print('MSE:', mean_squared_error(y_train,pred_train_rr))\n",
    "print('R2 Score:', r2_score(y_train, pred_train_rr))\n",
    "\n",
    "print('')\n",
    "\n",
    "pred_test_rr= rr.predict(X_test_scale)\n",
    "print('MSE:', mean_squared_error(y_test,pred_test_rr)) \n",
    "print('R2 Score:', r2_score(y_test, pred_test_rr))"
   ]
  },
  {
   "cell_type": "markdown",
   "metadata": {},
   "source": [
    "# ElasticNet Regression"
   ]
  },
  {
   "cell_type": "code",
   "execution_count": 51,
   "metadata": {},
   "outputs": [
    {
     "name": "stdout",
     "output_type": "stream",
     "text": [
      "MSE: 0.4273594870150078\n",
      "R2 Score: 0.44381997051770605\n",
      "\n",
      "MSE: 0.4273594870150078\n",
      "R2 Score: 0.44381997051770605\n"
     ]
    }
   ],
   "source": [
    "from sklearn.linear_model import ElasticNet\n",
    "\n",
    "X = cookies.drop(['quality'], axis=1)\n",
    "y = cookies['quality']\n",
    "\n",
    "X_train, X_test, y_train, y_test=train_test_split(X, y, test_size=0.2, random_state=0)\n",
    "\n",
    "#scaling the x values\n",
    "scaler = StandardScaler()\n",
    "scaler.fit(X_train)\n",
    "X_train_scale = scaler.transform(X_train)\n",
    "X_test_scale = scaler.transform(X_test)\n",
    "\n",
    "model_enet = ElasticNet(alpha = 0.01)\n",
    "model_enet.fit(X_train_scale, y_train) \n",
    "pred_train_enet= model_enet.predict(X_train_scale)\n",
    "\n",
    "print('MSE:', mean_squared_error(y_train,pred_train_enet))\n",
    "print('R2 Score:', r2_score(y_train,pred_train_enet))\n",
    "\n",
    "print('')\n",
    "\n",
    "pred_test_rr= rr.predict(X_test_scale)\n",
    "print('MSE:', mean_squared_error(y_train,pred_train_enet)) \n",
    "print('R2 Score:', r2_score(y_train,pred_train_enet))"
   ]
  },
  {
   "cell_type": "code",
   "execution_count": 52,
   "metadata": {},
   "outputs": [
    {
     "name": "stdout",
     "output_type": "stream",
     "text": [
      "MSE: 0.43913806740455\n",
      "R2 Score: 0.4284909293068224\n",
      "\n",
      "MSE: 0.43913806740455\n",
      "R2 Score: 0.4284909293068224\n"
     ]
    }
   ],
   "source": [
    "from sklearn.linear_model import ElasticNet\n",
    "\n",
    "X = cookies.drop(['quality'], axis=1)\n",
    "y = cookies['quality']\n",
    "\n",
    "X_train, X_test, y_train, y_test=train_test_split(X, y, test_size=0.2, random_state=0)\n",
    "\n",
    "#scaling the x values\n",
    "scaler = MinMaxScaler()\n",
    "scaler.fit(X_train)\n",
    "X_train_scale = scaler.transform(X_train)\n",
    "X_test_scale = scaler.transform(X_test)\n",
    "\n",
    "model_enet = ElasticNet(alpha = 0.01)\n",
    "model_enet.fit(X_train_scale, y_train) \n",
    "pred_train_enet= model_enet.predict(X_train_scale)\n",
    "\n",
    "print('MSE:', mean_squared_error(y_train,pred_train_enet))\n",
    "print('R2 Score:', r2_score(y_train,pred_train_enet))\n",
    "\n",
    "print('')\n",
    "\n",
    "pred_test_rr= rr.predict(X_test_scale)\n",
    "print('MSE:', mean_squared_error(y_train,pred_train_enet)) \n",
    "print('R2 Score:', r2_score(y_train,pred_train_enet))"
   ]
  },
  {
   "cell_type": "markdown",
   "metadata": {},
   "source": [
    "# Random Forrests"
   ]
  },
  {
   "cell_type": "code",
   "execution_count": 53,
   "metadata": {},
   "outputs": [
    {
     "name": "stdout",
     "output_type": "stream",
     "text": [
      "R2 Score 0.5886771993170178\n",
      "RMSE: 0.5669812928048982\n"
     ]
    }
   ],
   "source": [
    "from sklearn.ensemble import RandomForestRegressor\n",
    "\n",
    "X = cookies.drop(['quality'], axis=1)\n",
    "y = cookies['quality']\n",
    "\n",
    "X_train, X_test, y_train, y_test=train_test_split(X, y, test_size=0.2, random_state=0)\n",
    "\n",
    "RFR = RandomForestRegressor(max_depth=14.9)\n",
    "\n",
    "RFR.fit(X_train, y_train)\n",
    "\n",
    "y_predict = RFR.predict(X_train)\n",
    "y_test_predict= RFR.predict(X_test)\n",
    "\n",
    "print('R2 Score', r2_score(y_test, y_test_predict))\n",
    "print('RMSE:', np.sqrt(mean_squared_error(y_test, y_test_predict)))"
   ]
  },
  {
   "cell_type": "code",
   "execution_count": 54,
   "metadata": {},
   "outputs": [
    {
     "ename": "ValueError",
     "evalue": "Number of features of the model must match the input. Model n_features is 15 and input n_features is 16 ",
     "output_type": "error",
     "traceback": [
      "\u001b[1;31m---------------------------------------------------------------------------\u001b[0m",
      "\u001b[1;31mValueError\u001b[0m                                Traceback (most recent call last)",
      "\u001b[1;32m<ipython-input-54-82b93855ade6>\u001b[0m in \u001b[0;36m<module>\u001b[1;34m\u001b[0m\n\u001b[1;32m----> 1\u001b[1;33m \u001b[0mquality_pred\u001b[0m \u001b[1;33m=\u001b[0m \u001b[0mRFR\u001b[0m\u001b[1;33m.\u001b[0m\u001b[0mpredict\u001b[0m\u001b[1;33m(\u001b[0m\u001b[0mtest\u001b[0m\u001b[1;33m)\u001b[0m\u001b[1;33m\u001b[0m\u001b[1;33m\u001b[0m\u001b[0m\n\u001b[0m\u001b[0;32m      2\u001b[0m \u001b[0mquality_pred\u001b[0m\u001b[1;33m\u001b[0m\u001b[1;33m\u001b[0m\u001b[0m\n",
      "\u001b[1;32m~\\anaconda3\\lib\\site-packages\\sklearn\\ensemble\\_forest.py\u001b[0m in \u001b[0;36mpredict\u001b[1;34m(self, X)\u001b[0m\n\u001b[0;32m    781\u001b[0m         \u001b[0mcheck_is_fitted\u001b[0m\u001b[1;33m(\u001b[0m\u001b[0mself\u001b[0m\u001b[1;33m)\u001b[0m\u001b[1;33m\u001b[0m\u001b[1;33m\u001b[0m\u001b[0m\n\u001b[0;32m    782\u001b[0m         \u001b[1;31m# Check data\u001b[0m\u001b[1;33m\u001b[0m\u001b[1;33m\u001b[0m\u001b[1;33m\u001b[0m\u001b[0m\n\u001b[1;32m--> 783\u001b[1;33m         \u001b[0mX\u001b[0m \u001b[1;33m=\u001b[0m \u001b[0mself\u001b[0m\u001b[1;33m.\u001b[0m\u001b[0m_validate_X_predict\u001b[0m\u001b[1;33m(\u001b[0m\u001b[0mX\u001b[0m\u001b[1;33m)\u001b[0m\u001b[1;33m\u001b[0m\u001b[1;33m\u001b[0m\u001b[0m\n\u001b[0m\u001b[0;32m    784\u001b[0m \u001b[1;33m\u001b[0m\u001b[0m\n\u001b[0;32m    785\u001b[0m         \u001b[1;31m# Assign chunk of trees to jobs\u001b[0m\u001b[1;33m\u001b[0m\u001b[1;33m\u001b[0m\u001b[1;33m\u001b[0m\u001b[0m\n",
      "\u001b[1;32m~\\anaconda3\\lib\\site-packages\\sklearn\\ensemble\\_forest.py\u001b[0m in \u001b[0;36m_validate_X_predict\u001b[1;34m(self, X)\u001b[0m\n\u001b[0;32m    419\u001b[0m         \u001b[0mcheck_is_fitted\u001b[0m\u001b[1;33m(\u001b[0m\u001b[0mself\u001b[0m\u001b[1;33m)\u001b[0m\u001b[1;33m\u001b[0m\u001b[1;33m\u001b[0m\u001b[0m\n\u001b[0;32m    420\u001b[0m \u001b[1;33m\u001b[0m\u001b[0m\n\u001b[1;32m--> 421\u001b[1;33m         \u001b[1;32mreturn\u001b[0m \u001b[0mself\u001b[0m\u001b[1;33m.\u001b[0m\u001b[0mestimators_\u001b[0m\u001b[1;33m[\u001b[0m\u001b[1;36m0\u001b[0m\u001b[1;33m]\u001b[0m\u001b[1;33m.\u001b[0m\u001b[0m_validate_X_predict\u001b[0m\u001b[1;33m(\u001b[0m\u001b[0mX\u001b[0m\u001b[1;33m,\u001b[0m \u001b[0mcheck_input\u001b[0m\u001b[1;33m=\u001b[0m\u001b[1;32mTrue\u001b[0m\u001b[1;33m)\u001b[0m\u001b[1;33m\u001b[0m\u001b[1;33m\u001b[0m\u001b[0m\n\u001b[0m\u001b[0;32m    422\u001b[0m \u001b[1;33m\u001b[0m\u001b[0m\n\u001b[0;32m    423\u001b[0m     \u001b[1;33m@\u001b[0m\u001b[0mproperty\u001b[0m\u001b[1;33m\u001b[0m\u001b[1;33m\u001b[0m\u001b[0m\n",
      "\u001b[1;32m~\\anaconda3\\lib\\site-packages\\sklearn\\tree\\_classes.py\u001b[0m in \u001b[0;36m_validate_X_predict\u001b[1;34m(self, X, check_input)\u001b[0m\n\u001b[0;32m    394\u001b[0m         \u001b[0mn_features\u001b[0m \u001b[1;33m=\u001b[0m \u001b[0mX\u001b[0m\u001b[1;33m.\u001b[0m\u001b[0mshape\u001b[0m\u001b[1;33m[\u001b[0m\u001b[1;36m1\u001b[0m\u001b[1;33m]\u001b[0m\u001b[1;33m\u001b[0m\u001b[1;33m\u001b[0m\u001b[0m\n\u001b[0;32m    395\u001b[0m         \u001b[1;32mif\u001b[0m \u001b[0mself\u001b[0m\u001b[1;33m.\u001b[0m\u001b[0mn_features_\u001b[0m \u001b[1;33m!=\u001b[0m \u001b[0mn_features\u001b[0m\u001b[1;33m:\u001b[0m\u001b[1;33m\u001b[0m\u001b[1;33m\u001b[0m\u001b[0m\n\u001b[1;32m--> 396\u001b[1;33m             raise ValueError(\"Number of features of the model must \"\n\u001b[0m\u001b[0;32m    397\u001b[0m                              \u001b[1;34m\"match the input. Model n_features is %s and \"\u001b[0m\u001b[1;33m\u001b[0m\u001b[1;33m\u001b[0m\u001b[0m\n\u001b[0;32m    398\u001b[0m                              \u001b[1;34m\"input n_features is %s \"\u001b[0m\u001b[1;33m\u001b[0m\u001b[1;33m\u001b[0m\u001b[0m\n",
      "\u001b[1;31mValueError\u001b[0m: Number of features of the model must match the input. Model n_features is 15 and input n_features is 16 "
     ]
    }
   ],
   "source": [
    "quality_pred = RFR.predict(test)\n",
    "quality_pred"
   ]
  },
  {
   "cell_type": "code",
   "execution_count": null,
   "metadata": {},
   "outputs": [],
   "source": [
    "test['quality_pred'] = quality_pred"
   ]
  },
  {
   "cell_type": "code",
   "execution_count": null,
   "metadata": {},
   "outputs": [],
   "source": [
    "test"
   ]
  },
  {
   "cell_type": "code",
   "execution_count": null,
   "metadata": {},
   "outputs": [],
   "source": [
    "test.to_csv('../Data/firsttry_sarahlisa.csv')"
   ]
  },
  {
   "cell_type": "code",
   "execution_count": null,
   "metadata": {},
   "outputs": [],
   "source": [
    "cookies['quality'].value_counts()"
   ]
  },
  {
   "cell_type": "code",
   "execution_count": null,
   "metadata": {},
   "outputs": [],
   "source": []
  }
 ],
 "metadata": {
  "kernelspec": {
   "display_name": "Python 3",
   "language": "python",
   "name": "python3"
  },
  "language_info": {
   "codemirror_mode": {
    "name": "ipython",
    "version": 3
   },
   "file_extension": ".py",
   "mimetype": "text/x-python",
   "name": "python",
   "nbconvert_exporter": "python",
   "pygments_lexer": "ipython3",
   "version": "3.8.5"
  }
 },
 "nbformat": 4,
 "nbformat_minor": 4
}
