{
 "cells": [
  {
   "cell_type": "markdown",
   "metadata": {},
   "source": [
    "# Logistic Regression"
   ]
  },
  {
   "cell_type": "code",
   "execution_count": 1,
   "metadata": {},
   "outputs": [],
   "source": [
    "import pandas as pd\n",
    "import numpy as np\n",
    "from sklearn.model_selection import train_test_split\n",
    "from sklearn.preprocessing import StandardScaler\n",
    "from sklearn.linear_model import LogisticRegression\n",
    "from sklearn.metrics import r2_score\n",
    "from sklearn.metrics import mean_squared_error\n",
    "from sklearn.metrics import confusion_matrix, accuracy_score, cohen_kappa_score, plot_confusion_matrix, f1_score, recall_score, precision_score, classification_report "
   ]
  },
  {
   "cell_type": "markdown",
   "metadata": {},
   "source": [
    "**Importing Dataset**"
   ]
  },
  {
   "cell_type": "code",
   "execution_count": 2,
   "metadata": {},
   "outputs": [],
   "source": [
    "cookies = pd.read_csv('../Data/cookies_clean.csv')"
   ]
  },
  {
   "cell_type": "code",
   "execution_count": 3,
   "metadata": {},
   "outputs": [
    {
     "data": {
      "text/html": [
       "<div>\n",
       "<style scoped>\n",
       "    .dataframe tbody tr th:only-of-type {\n",
       "        vertical-align: middle;\n",
       "    }\n",
       "\n",
       "    .dataframe tbody tr th {\n",
       "        vertical-align: top;\n",
       "    }\n",
       "\n",
       "    .dataframe thead th {\n",
       "        text-align: right;\n",
       "    }\n",
       "</style>\n",
       "<table border=\"1\" class=\"dataframe\">\n",
       "  <thead>\n",
       "    <tr style=\"text-align: right;\">\n",
       "      <th></th>\n",
       "      <th>Unnamed: 0</th>\n",
       "      <th>sugar to flour ratio</th>\n",
       "      <th>sugar index</th>\n",
       "      <th>bake temp</th>\n",
       "      <th>chill time</th>\n",
       "      <th>calories</th>\n",
       "      <th>pH</th>\n",
       "      <th>grams baking soda</th>\n",
       "      <th>bake time</th>\n",
       "      <th>quality</th>\n",
       "      <th>butter type</th>\n",
       "      <th>weight</th>\n",
       "      <th>diameter</th>\n",
       "      <th>chocolate</th>\n",
       "      <th>raisins</th>\n",
       "      <th>oats</th>\n",
       "      <th>nuts</th>\n",
       "      <th>peanut butter</th>\n",
       "    </tr>\n",
       "  </thead>\n",
       "  <tbody>\n",
       "    <tr>\n",
       "      <th>0</th>\n",
       "      <td>0</td>\n",
       "      <td>0.25</td>\n",
       "      <td>9.5</td>\n",
       "      <td>300</td>\n",
       "      <td>15.0</td>\n",
       "      <td>136.0</td>\n",
       "      <td>8.10</td>\n",
       "      <td>0.44</td>\n",
       "      <td>12.1</td>\n",
       "      <td>8</td>\n",
       "      <td>1</td>\n",
       "      <td>15.2</td>\n",
       "      <td>7</td>\n",
       "      <td>0</td>\n",
       "      <td>1</td>\n",
       "      <td>0</td>\n",
       "      <td>0</td>\n",
       "      <td>0</td>\n",
       "    </tr>\n",
       "    <tr>\n",
       "      <th>1</th>\n",
       "      <td>1</td>\n",
       "      <td>0.23</td>\n",
       "      <td>3.3</td>\n",
       "      <td>520</td>\n",
       "      <td>34.0</td>\n",
       "      <td>113.0</td>\n",
       "      <td>8.16</td>\n",
       "      <td>0.48</td>\n",
       "      <td>8.4</td>\n",
       "      <td>7</td>\n",
       "      <td>1</td>\n",
       "      <td>12.4</td>\n",
       "      <td>7</td>\n",
       "      <td>0</td>\n",
       "      <td>1</td>\n",
       "      <td>0</td>\n",
       "      <td>0</td>\n",
       "      <td>0</td>\n",
       "    </tr>\n",
       "    <tr>\n",
       "      <th>2</th>\n",
       "      <td>2</td>\n",
       "      <td>0.18</td>\n",
       "      <td>1.9</td>\n",
       "      <td>360</td>\n",
       "      <td>33.0</td>\n",
       "      <td>106.0</td>\n",
       "      <td>8.21</td>\n",
       "      <td>0.83</td>\n",
       "      <td>14.0</td>\n",
       "      <td>9</td>\n",
       "      <td>1</td>\n",
       "      <td>9.4</td>\n",
       "      <td>7</td>\n",
       "      <td>1</td>\n",
       "      <td>0</td>\n",
       "      <td>0</td>\n",
       "      <td>1</td>\n",
       "      <td>0</td>\n",
       "    </tr>\n",
       "  </tbody>\n",
       "</table>\n",
       "</div>"
      ],
      "text/plain": [
       "   Unnamed: 0  sugar to flour ratio  sugar index  bake temp  chill time  \\\n",
       "0           0                  0.25          9.5        300        15.0   \n",
       "1           1                  0.23          3.3        520        34.0   \n",
       "2           2                  0.18          1.9        360        33.0   \n",
       "\n",
       "   calories    pH  grams baking soda  bake time  quality  butter type  weight  \\\n",
       "0     136.0  8.10               0.44       12.1        8            1    15.2   \n",
       "1     113.0  8.16               0.48        8.4        7            1    12.4   \n",
       "2     106.0  8.21               0.83       14.0        9            1     9.4   \n",
       "\n",
       "   diameter  chocolate  raisins  oats  nuts  peanut butter  \n",
       "0         7          0        1     0     0              0  \n",
       "1         7          0        1     0     0              0  \n",
       "2         7          1        0     0     1              0  "
      ]
     },
     "execution_count": 3,
     "metadata": {},
     "output_type": "execute_result"
    }
   ],
   "source": [
    "cookies.head(3)"
   ]
  },
  {
   "cell_type": "code",
   "execution_count": 4,
   "metadata": {},
   "outputs": [],
   "source": [
    "cookies.drop('Unnamed: 0', axis=1, inplace=True)"
   ]
  },
  {
   "cell_type": "markdown",
   "metadata": {},
   "source": [
    "**Splitting data frame**"
   ]
  },
  {
   "cell_type": "code",
   "execution_count": 5,
   "metadata": {},
   "outputs": [],
   "source": [
    "X = cookies.drop(['quality', 'pH', 'chill time', 'diameter'], axis=1)\n",
    "y = cookies['quality']"
   ]
  },
  {
   "cell_type": "code",
   "execution_count": 6,
   "metadata": {},
   "outputs": [],
   "source": [
    "X_train, X_test, y_train, y_test=train_test_split(X, y, test_size=0.33, random_state=0)"
   ]
  },
  {
   "cell_type": "code",
   "execution_count": 7,
   "metadata": {},
   "outputs": [],
   "source": [
    "#scaling the x values\n",
    "scaler = StandardScaler()\n",
    "scaler.fit(X_train)\n",
    "X_train_scale = scaler.transform(X_train)\n",
    "X_test_scale = scaler.transform(X_test)"
   ]
  },
  {
   "cell_type": "code",
   "execution_count": 8,
   "metadata": {},
   "outputs": [],
   "source": [
    "log_model = LogisticRegression(max_iter=700)"
   ]
  },
  {
   "cell_type": "code",
   "execution_count": 9,
   "metadata": {},
   "outputs": [
    {
     "data": {
      "text/plain": [
       "LogisticRegression(max_iter=700)"
      ]
     },
     "execution_count": 9,
     "metadata": {},
     "output_type": "execute_result"
    }
   ],
   "source": [
    "log_model.fit(X_train_scale, y_train)"
   ]
  },
  {
   "cell_type": "code",
   "execution_count": 10,
   "metadata": {},
   "outputs": [],
   "source": [
    "y_pred = log_model.predict(X_test_scale)"
   ]
  },
  {
   "cell_type": "code",
   "execution_count": 11,
   "metadata": {},
   "outputs": [],
   "source": [
    "def model_scores(y_test, y_pred):\n",
    "    print('R2:', round(r2_score(y_test, y_pred), 3))\n",
    "    print('Accuracy Score:', round(accuracy_score(y_test, y_pred), 3))\n",
    "    print('Cohen Kappa Score:', round(cohen_kappa_score(y_test, y_pred), 3))\n",
    "    print('MSE:', round(mean_squared_error(y_test, y_pred), 3))"
   ]
  },
  {
   "cell_type": "code",
   "execution_count": 12,
   "metadata": {},
   "outputs": [
    {
     "name": "stdout",
     "output_type": "stream",
     "text": [
      "R2: 0.625\n",
      "Accuracy Score: 0.546\n",
      "Cohen Kappa Score: 0.39\n",
      "MSE: 0.654\n"
     ]
    }
   ],
   "source": [
    "model_scores(y_test, y_pred)"
   ]
  },
  {
   "cell_type": "markdown",
   "metadata": {},
   "source": [
    "# KN Regressor"
   ]
  },
  {
   "cell_type": "code",
   "execution_count": 13,
   "metadata": {},
   "outputs": [
    {
     "name": "stdout",
     "output_type": "stream",
     "text": [
      "For k= 1\n",
      "R2: 0.609\n",
      "MSE: 0.699\n",
      "\n",
      "For k= 2\n",
      "R2: 0.668\n",
      "MSE: 0.595\n",
      "\n",
      "For k= 3\n",
      "R2: 0.692\n",
      "MSE: 0.552\n",
      "\n",
      "For k= 4\n",
      "R2: 0.696\n",
      "MSE: 0.545\n",
      "\n",
      "For k= 5\n",
      "R2: 0.702\n",
      "MSE: 0.533\n",
      "\n",
      "For k= 6\n",
      "R2: 0.704\n",
      "MSE: 0.53\n",
      "\n",
      "For k= 7\n",
      "R2: 0.708\n",
      "MSE: 0.524\n",
      "\n",
      "For k= 8\n",
      "R2: 0.713\n",
      "MSE: 0.514\n",
      "\n",
      "For k= 9\n",
      "R2: 0.71\n",
      "MSE: 0.52\n",
      "\n",
      "For k= 10\n",
      "R2: 0.707\n",
      "MSE: 0.525\n",
      "\n",
      "For k= 11\n",
      "R2: 0.704\n",
      "MSE: 0.531\n",
      "\n",
      "For k= 12\n",
      "R2: 0.7\n",
      "MSE: 0.538\n",
      "\n",
      "For k= 13\n",
      "R2: 0.7\n",
      "MSE: 0.537\n",
      "\n",
      "For k= 14\n",
      "R2: 0.701\n",
      "MSE: 0.535\n",
      "\n",
      "For k= 15\n",
      "R2: 0.701\n",
      "MSE: 0.536\n",
      "\n",
      "For k= 16\n",
      "R2: 0.699\n",
      "MSE: 0.538\n",
      "\n",
      "For k= 17\n",
      "R2: 0.699\n",
      "MSE: 0.539\n",
      "\n",
      "For k= 18\n",
      "R2: 0.7\n",
      "MSE: 0.538\n",
      "\n",
      "For k= 19\n",
      "R2: 0.699\n",
      "MSE: 0.539\n",
      "\n"
     ]
    }
   ],
   "source": [
    "#with Standard Scaler\n",
    "from sklearn.neighbors import KNeighborsRegressor\n",
    "\n",
    "X = cookies.drop(['quality'], axis=1)\n",
    "y = cookies['quality']\n",
    "\n",
    "X_train, X_test, y_train, y_test=train_test_split(X, y, test_size=0.2, random_state=0)\n",
    "\n",
    "#scaling the x values\n",
    "scaler = StandardScaler()\n",
    "scaler.fit(X_train)\n",
    "X_train_scale = scaler.transform(X_train)\n",
    "X_test_scale = scaler.transform(X_test)\n",
    "\n",
    "for k in range(1, 20):\n",
    "    Knn = KNeighborsRegressor(n_neighbors = k)\n",
    "    Knn.fit(X_train_scale, y_train)\n",
    "    y_pred = Knn.predict(X_test_scale)\n",
    "    print('For k=', k)\n",
    "    print('R2:', round(r2_score(y_test, y_pred), 3))\n",
    "    print('MSE:', round(mean_squared_error(y_test, y_pred), 3))\n",
    "    print('')"
   ]
  },
  {
   "cell_type": "code",
   "execution_count": 14,
   "metadata": {},
   "outputs": [
    {
     "name": "stdout",
     "output_type": "stream",
     "text": [
      "For k= 1\n",
      "R2: 0.606\n",
      "MSE: 0.706\n",
      "\n",
      "For k= 2\n",
      "R2: 0.663\n",
      "MSE: 0.603\n",
      "\n",
      "For k= 3\n",
      "R2: 0.669\n",
      "MSE: 0.592\n",
      "\n",
      "For k= 4\n",
      "R2: 0.68\n",
      "MSE: 0.573\n",
      "\n",
      "For k= 5\n",
      "R2: 0.69\n",
      "MSE: 0.555\n",
      "\n",
      "For k= 6\n",
      "R2: 0.696\n",
      "MSE: 0.544\n",
      "\n",
      "For k= 7\n",
      "R2: 0.697\n",
      "MSE: 0.542\n",
      "\n",
      "For k= 8\n",
      "R2: 0.701\n",
      "MSE: 0.535\n",
      "\n",
      "For k= 9\n",
      "R2: 0.704\n",
      "MSE: 0.53\n",
      "\n",
      "For k= 10\n",
      "R2: 0.707\n",
      "MSE: 0.524\n",
      "\n",
      "For k= 11\n",
      "R2: 0.708\n",
      "MSE: 0.522\n",
      "\n",
      "For k= 12\n",
      "R2: 0.708\n",
      "MSE: 0.522\n",
      "\n",
      "For k= 13\n",
      "R2: 0.708\n",
      "MSE: 0.522\n",
      "\n",
      "For k= 14\n",
      "R2: 0.709\n",
      "MSE: 0.521\n",
      "\n",
      "For k= 15\n",
      "R2: 0.708\n",
      "MSE: 0.522\n",
      "\n",
      "For k= 16\n",
      "R2: 0.708\n",
      "MSE: 0.522\n",
      "\n",
      "For k= 17\n",
      "R2: 0.708\n",
      "MSE: 0.523\n",
      "\n",
      "For k= 18\n",
      "R2: 0.707\n",
      "MSE: 0.524\n",
      "\n",
      "For k= 19\n",
      "R2: 0.709\n",
      "MSE: 0.521\n",
      "\n"
     ]
    }
   ],
   "source": [
    "# with MinMaxScaler\n",
    "from sklearn.neighbors import KNeighborsRegressor\n",
    "from sklearn.preprocessing import MinMaxScaler\n",
    "\n",
    "X = cookies.drop(['quality'], axis=1)\n",
    "y = cookies['quality']\n",
    "\n",
    "X_train, X_test, y_train, y_test=train_test_split(X, y, test_size=0.2, random_state=0)\n",
    "\n",
    "#scaling the x values\n",
    "scaler = MinMaxScaler()\n",
    "scaler.fit(X_train)\n",
    "X_train_scale = scaler.transform(X_train)\n",
    "X_test_scale = scaler.transform(X_test)\n",
    "\n",
    "for k in range(1, 20):\n",
    "    Knn = KNeighborsRegressor(n_neighbors = k)\n",
    "    Knn.fit(X_train_scale, y_train)\n",
    "    y_pred = Knn.predict(X_test_scale)\n",
    "    print('For k=', k)\n",
    "    print('R2:', round(r2_score(y_test, y_pred), 3))\n",
    "    print('MSE:', round(mean_squared_error(y_test, y_pred), 3))\n",
    "    print('')"
   ]
  },
  {
   "cell_type": "code",
   "execution_count": 15,
   "metadata": {},
   "outputs": [
    {
     "name": "stdout",
     "output_type": "stream",
     "text": [
      "For k= 1\n",
      "R2: 0.622\n",
      "MSE: 0.677\n",
      "\n",
      "For k= 2\n",
      "R2: 0.668\n",
      "MSE: 0.595\n",
      "\n",
      "For k= 3\n",
      "R2: 0.681\n",
      "MSE: 0.57\n",
      "\n",
      "For k= 4\n",
      "R2: 0.688\n",
      "MSE: 0.559\n",
      "\n",
      "For k= 5\n",
      "R2: 0.694\n",
      "MSE: 0.549\n",
      "\n",
      "For k= 6\n",
      "R2: 0.697\n",
      "MSE: 0.543\n",
      "\n",
      "For k= 7\n",
      "R2: 0.701\n",
      "MSE: 0.535\n",
      "\n",
      "For k= 8\n",
      "R2: 0.705\n",
      "MSE: 0.528\n",
      "\n",
      "For k= 9\n",
      "R2: 0.709\n",
      "MSE: 0.521\n",
      "\n",
      "For k= 10\n",
      "R2: 0.709\n",
      "MSE: 0.521\n",
      "\n",
      "For k= 11\n",
      "R2: 0.708\n",
      "MSE: 0.523\n",
      "\n",
      "For k= 12\n",
      "R2: 0.709\n",
      "MSE: 0.521\n",
      "\n",
      "For k= 13\n",
      "R2: 0.71\n",
      "MSE: 0.519\n",
      "\n",
      "For k= 14\n",
      "R2: 0.708\n",
      "MSE: 0.524\n",
      "\n",
      "For k= 15\n",
      "R2: 0.705\n",
      "MSE: 0.528\n",
      "\n",
      "For k= 16\n",
      "R2: 0.704\n",
      "MSE: 0.529\n",
      "\n",
      "For k= 17\n",
      "R2: 0.705\n",
      "MSE: 0.529\n",
      "\n",
      "For k= 18\n",
      "R2: 0.703\n",
      "MSE: 0.531\n",
      "\n",
      "For k= 19\n",
      "R2: 0.702\n",
      "MSE: 0.533\n",
      "\n"
     ]
    }
   ],
   "source": [
    "#with Standard Scaler and dropping more columns\n",
    "from sklearn.neighbors import KNeighborsRegressor\n",
    "\n",
    "X = cookies.drop(['quality', 'sugar to flour ratio', 'pH', ], axis=1)\n",
    "y = cookies['quality']\n",
    "\n",
    "X_train, X_test, y_train, y_test=train_test_split(X, y, test_size=0.2, random_state=0)\n",
    "\n",
    "#scaling the x values\n",
    "scaler = StandardScaler()\n",
    "scaler.fit(X_train)\n",
    "X_train_scale = scaler.transform(X_train)\n",
    "X_test_scale = scaler.transform(X_test)\n",
    "\n",
    "for k in range(1, 20):\n",
    "    Knn = KNeighborsRegressor(n_neighbors = k)\n",
    "    Knn.fit(X_train_scale, y_train)\n",
    "    y_pred = Knn.predict(X_test_scale)\n",
    "    print('For k=', k)\n",
    "    print('R2:', round(r2_score(y_test, y_pred), 3))\n",
    "    print('MSE:', round(mean_squared_error(y_test, y_pred), 3))\n",
    "    print('')"
   ]
  },
  {
   "cell_type": "markdown",
   "metadata": {},
   "source": [
    "# Linear Regression"
   ]
  },
  {
   "cell_type": "code",
   "execution_count": 16,
   "metadata": {},
   "outputs": [
    {
     "name": "stdout",
     "output_type": "stream",
     "text": [
      "R2: 0.7\n",
      "MSE: 0.538\n"
     ]
    }
   ],
   "source": [
    "from sklearn.linear_model import LinearRegression\n",
    "\n",
    "X = cookies.drop(['quality'], axis=1)\n",
    "y = cookies['quality']\n",
    "\n",
    "X_train, X_test, y_train, y_test=train_test_split(X, y, test_size=0.2, random_state=0)\n",
    "\n",
    "#scaling the x values\n",
    "scaler = StandardScaler()\n",
    "scaler.fit(X_train)\n",
    "X_train_scale = scaler.transform(X_train)\n",
    "X_test_scale = scaler.transform(X_test)\n",
    "\n",
    "reg = LinearRegression()\n",
    "reg.fit(X_train_scale, y_train)\n",
    "\n",
    "y_pred = reg.predict(X_test_scale)\n",
    "\n",
    "print('R2:', round(r2_score(y_test, y_pred), 3))\n",
    "print('MSE:', round(mean_squared_error(y_test, y_pred), 3))"
   ]
  },
  {
   "cell_type": "code",
   "execution_count": 17,
   "metadata": {},
   "outputs": [
    {
     "name": "stdout",
     "output_type": "stream",
     "text": [
      "R2: 0.7\n",
      "MSE: 0.538\n"
     ]
    }
   ],
   "source": [
    "from sklearn.linear_model import LinearRegression\n",
    "\n",
    "X = cookies.drop(['quality'], axis=1)\n",
    "y = cookies['quality']\n",
    "\n",
    "X_train, X_test, y_train, y_test=train_test_split(X, y, test_size=0.2, random_state=0)\n",
    "\n",
    "#scaling the x values\n",
    "scaler = MinMaxScaler()\n",
    "scaler.fit(X_train)\n",
    "X_train_scale = scaler.transform(X_train)\n",
    "X_test_scale = scaler.transform(X_test)\n",
    "\n",
    "reg = LinearRegression()\n",
    "reg.fit(X_train_scale, y_train)\n",
    "\n",
    "y_pred = reg.predict(X_test_scale)\n",
    "\n",
    "print('R2:', round(r2_score(y_test, y_pred), 3))\n",
    "print('MSE:', round(mean_squared_error(y_test, y_pred), 3))"
   ]
  },
  {
   "cell_type": "markdown",
   "metadata": {},
   "source": [
    "# Lasso Regression"
   ]
  },
  {
   "cell_type": "code",
   "execution_count": 18,
   "metadata": {},
   "outputs": [
    {
     "name": "stdout",
     "output_type": "stream",
     "text": [
      "MSE: 0.6149511559085641\n",
      "R2 Score: 0.632171304346357\n",
      "\n",
      "MSE: 0.6123923232531381\n",
      "R2 Score: 0.6579349597527941\n"
     ]
    }
   ],
   "source": [
    "from sklearn import linear_model\n",
    "\n",
    "X = cookies.drop(['quality'], axis=1)\n",
    "y = cookies['quality']\n",
    "\n",
    "X_train, X_test, y_train, y_test=train_test_split(X, y, test_size=0.2, random_state=0)\n",
    "\n",
    "#scaling the x values\n",
    "scaler = StandardScaler()\n",
    "scaler.fit(X_train)\n",
    "X_train_scale = scaler.transform(X_train)\n",
    "X_test_scale = scaler.transform(X_test)\n",
    "\n",
    "model_lasso = linear_model.Lasso(alpha=0.1)\n",
    "model_lasso.fit(X_train_scale, y_train) \n",
    "pred_train_lasso= model_lasso.predict(X_train_scale)\n",
    "print('MSE:', mean_squared_error(y_train,pred_train_lasso))\n",
    "print('R2 Score:', r2_score(y_train, pred_train_lasso))\n",
    "print('')\n",
    "pred_test_lasso= model_lasso.predict(X_test_scale)\n",
    "print('MSE:', mean_squared_error(y_test,pred_test_lasso)) \n",
    "print('R2 Score:', r2_score(y_test, pred_test_lasso))"
   ]
  },
  {
   "cell_type": "code",
   "execution_count": 19,
   "metadata": {},
   "outputs": [
    {
     "name": "stdout",
     "output_type": "stream",
     "text": [
      "MSE: 0.8009116980553284\n",
      "R2 Score: 0.5209403179441474\n",
      "\n",
      "MSE: 0.8267194370293728\n",
      "R2 Score: 0.5382178927417659\n"
     ]
    }
   ],
   "source": [
    "from sklearn import linear_model\n",
    "\n",
    "X = cookies.drop(['quality'], axis=1)\n",
    "y = cookies['quality']\n",
    "\n",
    "X_train, X_test, y_train, y_test=train_test_split(X, y, test_size=0.2, random_state=0)\n",
    "\n",
    "#scaling the x values\n",
    "scaler = MinMaxScaler()\n",
    "scaler.fit(X_train)\n",
    "X_train_scale = scaler.transform(X_train)\n",
    "X_test_scale = scaler.transform(X_test)\n",
    "\n",
    "model_lasso = linear_model.Lasso(alpha=0.1)\n",
    "model_lasso.fit(X_train_scale, y_train) \n",
    "pred_train_lasso= model_lasso.predict(X_train_scale)\n",
    "print('MSE:', mean_squared_error(y_train,pred_train_lasso))\n",
    "print('R2 Score:', r2_score(y_train, pred_train_lasso))\n",
    "print('')\n",
    "pred_test_lasso= model_lasso.predict(X_test_scale)\n",
    "print('MSE:', mean_squared_error(y_test,pred_test_lasso)) \n",
    "print('R2 Score:', r2_score(y_test, pred_test_lasso))"
   ]
  },
  {
   "cell_type": "markdown",
   "metadata": {},
   "source": [
    "# Ridge Regression"
   ]
  },
  {
   "cell_type": "code",
   "execution_count": 20,
   "metadata": {},
   "outputs": [
    {
     "name": "stdout",
     "output_type": "stream",
     "text": [
      "MSE: 0.557106264439786\n",
      "R2 Score: 0.666770818104082\n",
      "\n",
      "MSE: 0.5376962038157337\n",
      "R2 Score: 0.6996581005099066\n"
     ]
    }
   ],
   "source": [
    "from sklearn.linear_model import Ridge\n",
    "\n",
    "X = cookies.drop(['quality'], axis=1)\n",
    "y = cookies['quality']\n",
    "\n",
    "X_train, X_test, y_train, y_test=train_test_split(X, y, test_size=0.2, random_state=0)\n",
    "\n",
    "#scaling the x values\n",
    "scaler = StandardScaler()\n",
    "scaler.fit(X_train)\n",
    "X_train_scale = scaler.transform(X_train)\n",
    "X_test_scale = scaler.transform(X_test)\n",
    "\n",
    "rr = Ridge(alpha=0.01)\n",
    "rr.fit(X_train_scale, y_train) \n",
    "pred_train_rr= rr.predict(X_train_scale)\n",
    "print('MSE:', mean_squared_error(y_train,pred_train_rr))\n",
    "print('R2 Score:', r2_score(y_train, pred_train_rr))\n",
    "\n",
    "print('')\n",
    "\n",
    "pred_test_rr= rr.predict(X_test_scale)\n",
    "print('MSE:', mean_squared_error(y_test,pred_test_rr)) \n",
    "print('R2 Score:', r2_score(y_test, pred_test_rr))"
   ]
  },
  {
   "cell_type": "code",
   "execution_count": 21,
   "metadata": {},
   "outputs": [
    {
     "name": "stdout",
     "output_type": "stream",
     "text": [
      "MSE: 0.5571062891675566\n",
      "R2 Score: 0.6667708033133405\n",
      "\n",
      "MSE: 0.5376939787775796\n",
      "R2 Score: 0.6996593433533207\n"
     ]
    }
   ],
   "source": [
    "from sklearn.linear_model import Ridge\n",
    "\n",
    "X = cookies.drop(['quality'], axis=1)\n",
    "y = cookies['quality']\n",
    "\n",
    "X_train, X_test, y_train, y_test=train_test_split(X, y, test_size=0.2, random_state=0)\n",
    "\n",
    "#scaling the x values\n",
    "scaler = MinMaxScaler()\n",
    "scaler.fit(X_train)\n",
    "X_train_scale = scaler.transform(X_train)\n",
    "X_test_scale = scaler.transform(X_test)\n",
    "\n",
    "rr = Ridge(alpha=0.01)\n",
    "rr.fit(X_train_scale, y_train) \n",
    "pred_train_rr= rr.predict(X_train_scale)\n",
    "print('MSE:', mean_squared_error(y_train,pred_train_rr))\n",
    "print('R2 Score:', r2_score(y_train, pred_train_rr))\n",
    "\n",
    "print('')\n",
    "\n",
    "pred_test_rr= rr.predict(X_test_scale)\n",
    "print('MSE:', mean_squared_error(y_test,pred_test_rr)) \n",
    "print('R2 Score:', r2_score(y_test, pred_test_rr))"
   ]
  },
  {
   "cell_type": "markdown",
   "metadata": {},
   "source": [
    "# ElasticNet Regression"
   ]
  },
  {
   "cell_type": "code",
   "execution_count": 22,
   "metadata": {},
   "outputs": [
    {
     "name": "stdout",
     "output_type": "stream",
     "text": [
      "MSE: 0.5581871730202816\n",
      "R2 Score: 0.6661242802620689\n",
      "\n",
      "MSE: 0.5581871730202816\n",
      "R2 Score: 0.6661242802620689\n"
     ]
    }
   ],
   "source": [
    "from sklearn.linear_model import ElasticNet\n",
    "\n",
    "X = cookies.drop(['quality'], axis=1)\n",
    "y = cookies['quality']\n",
    "\n",
    "X_train, X_test, y_train, y_test=train_test_split(X, y, test_size=0.2, random_state=0)\n",
    "\n",
    "#scaling the x values\n",
    "scaler = StandardScaler()\n",
    "scaler.fit(X_train)\n",
    "X_train_scale = scaler.transform(X_train)\n",
    "X_test_scale = scaler.transform(X_test)\n",
    "\n",
    "model_enet = ElasticNet(alpha = 0.01)\n",
    "model_enet.fit(X_train_scale, y_train) \n",
    "pred_train_enet= model_enet.predict(X_train_scale)\n",
    "\n",
    "print('MSE:', mean_squared_error(y_train,pred_train_enet))\n",
    "print('R2 Score:', r2_score(y_train,pred_train_enet))\n",
    "\n",
    "print('')\n",
    "\n",
    "pred_test_rr= rr.predict(X_test_scale)\n",
    "print('MSE:', mean_squared_error(y_train,pred_train_enet)) \n",
    "print('R2 Score:', r2_score(y_train,pred_train_enet))"
   ]
  },
  {
   "cell_type": "code",
   "execution_count": 23,
   "metadata": {},
   "outputs": [
    {
     "name": "stdout",
     "output_type": "stream",
     "text": [
      "MSE: 0.5863640935808411\n",
      "R2 Score: 0.6492704540065282\n",
      "\n",
      "MSE: 0.5863640935808411\n",
      "R2 Score: 0.6492704540065282\n"
     ]
    }
   ],
   "source": [
    "from sklearn.linear_model import ElasticNet\n",
    "\n",
    "X = cookies.drop(['quality'], axis=1)\n",
    "y = cookies['quality']\n",
    "\n",
    "X_train, X_test, y_train, y_test=train_test_split(X, y, test_size=0.2, random_state=0)\n",
    "\n",
    "#scaling the x values\n",
    "scaler = MinMaxScaler()\n",
    "scaler.fit(X_train)\n",
    "X_train_scale = scaler.transform(X_train)\n",
    "X_test_scale = scaler.transform(X_test)\n",
    "\n",
    "model_enet = ElasticNet(alpha = 0.01)\n",
    "model_enet.fit(X_train_scale, y_train) \n",
    "pred_train_enet= model_enet.predict(X_train_scale)\n",
    "\n",
    "print('MSE:', mean_squared_error(y_train,pred_train_enet))\n",
    "print('R2 Score:', r2_score(y_train,pred_train_enet))\n",
    "\n",
    "print('')\n",
    "\n",
    "pred_test_rr= rr.predict(X_test_scale)\n",
    "print('MSE:', mean_squared_error(y_train,pred_train_enet)) \n",
    "print('R2 Score:', r2_score(y_train,pred_train_enet))"
   ]
  },
  {
   "cell_type": "code",
   "execution_count": null,
   "metadata": {},
   "outputs": [],
   "source": []
  }
 ],
 "metadata": {
  "kernelspec": {
   "display_name": "Python 3",
   "language": "python",
   "name": "python3"
  },
  "language_info": {
   "codemirror_mode": {
    "name": "ipython",
    "version": 3
   },
   "file_extension": ".py",
   "mimetype": "text/x-python",
   "name": "python",
   "nbconvert_exporter": "python",
   "pygments_lexer": "ipython3",
   "version": "3.8.5"
  }
 },
 "nbformat": 4,
 "nbformat_minor": 4
}
